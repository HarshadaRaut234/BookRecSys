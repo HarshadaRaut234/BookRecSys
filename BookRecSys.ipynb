{
  "nbformat": 4,
  "nbformat_minor": 0,
  "metadata": {
    "colab": {
      "provenance": [],
      "authorship_tag": "ABX9TyOyWU1ELiO4P58wzopk/Jb0",
      "include_colab_link": true
    },
    "kernelspec": {
      "name": "python3",
      "display_name": "Python 3"
    },
    "language_info": {
      "name": "python"
    }
  },
  "cells": [
    {
      "cell_type": "markdown",
      "metadata": {
        "id": "view-in-github",
        "colab_type": "text"
      },
      "source": [
        "<a href=\"https://colab.research.google.com/github/HarshadaRaut234/BookRecSys/blob/main/BookRecSys.ipynb\" target=\"_parent\"><img src=\"https://colab.research.google.com/assets/colab-badge.svg\" alt=\"Open In Colab\"/></a>"
      ]
    },
    {
      "cell_type": "code",
      "execution_count": 1,
      "metadata": {
        "id": "OE4p2IWMBxK0"
      },
      "outputs": [],
      "source": [
        "import pandas as pd\n",
        "import numpy as np"
      ]
    },
    {
      "cell_type": "code",
      "source": [
        "books=pd.read_csv('/content/goodreads_data.csv.zip')"
      ],
      "metadata": {
        "id": "gcDVg0TEDnwK"
      },
      "execution_count": 3,
      "outputs": []
    },
    {
      "cell_type": "markdown",
      "source": [
        "# New Section"
      ],
      "metadata": {
        "id": "DDaJMAYr6iwD"
      }
    },
    {
      "cell_type": "code",
      "source": [
        "books.head(1)"
      ],
      "metadata": {
        "colab": {
          "base_uri": "https://localhost:8080/",
          "height": 187
        },
        "id": "YFFrIaBOD0JL",
        "outputId": "4d4a2001-edd8-40d2-c72b-50035370334c"
      },
      "execution_count": 4,
      "outputs": [
        {
          "output_type": "execute_result",
          "data": {
            "text/plain": [
              "   Unnamed: 0                   Book      Author  \\\n",
              "0           0  To Kill a Mockingbird  Harper Lee   \n",
              "\n",
              "                                         Description  \\\n",
              "0  The unforgettable novel of a childhood in a sl...   \n",
              "\n",
              "                                              Genres  Avg_Rating Num_Ratings  \\\n",
              "0  ['Classics', 'Fiction', 'Historical Fiction', ...        4.27   5,691,311   \n",
              "\n",
              "                                                 URL  \n",
              "0  https://www.goodreads.com/book/show/2657.To_Ki...  "
            ],
            "text/html": [
              "\n",
              "  <div id=\"df-953b664a-d64b-45da-b29c-bfb7b43f246c\" class=\"colab-df-container\">\n",
              "    <div>\n",
              "<style scoped>\n",
              "    .dataframe tbody tr th:only-of-type {\n",
              "        vertical-align: middle;\n",
              "    }\n",
              "\n",
              "    .dataframe tbody tr th {\n",
              "        vertical-align: top;\n",
              "    }\n",
              "\n",
              "    .dataframe thead th {\n",
              "        text-align: right;\n",
              "    }\n",
              "</style>\n",
              "<table border=\"1\" class=\"dataframe\">\n",
              "  <thead>\n",
              "    <tr style=\"text-align: right;\">\n",
              "      <th></th>\n",
              "      <th>Unnamed: 0</th>\n",
              "      <th>Book</th>\n",
              "      <th>Author</th>\n",
              "      <th>Description</th>\n",
              "      <th>Genres</th>\n",
              "      <th>Avg_Rating</th>\n",
              "      <th>Num_Ratings</th>\n",
              "      <th>URL</th>\n",
              "    </tr>\n",
              "  </thead>\n",
              "  <tbody>\n",
              "    <tr>\n",
              "      <th>0</th>\n",
              "      <td>0</td>\n",
              "      <td>To Kill a Mockingbird</td>\n",
              "      <td>Harper Lee</td>\n",
              "      <td>The unforgettable novel of a childhood in a sl...</td>\n",
              "      <td>['Classics', 'Fiction', 'Historical Fiction', ...</td>\n",
              "      <td>4.27</td>\n",
              "      <td>5,691,311</td>\n",
              "      <td>https://www.goodreads.com/book/show/2657.To_Ki...</td>\n",
              "    </tr>\n",
              "  </tbody>\n",
              "</table>\n",
              "</div>\n",
              "    <div class=\"colab-df-buttons\">\n",
              "\n",
              "  <div class=\"colab-df-container\">\n",
              "    <button class=\"colab-df-convert\" onclick=\"convertToInteractive('df-953b664a-d64b-45da-b29c-bfb7b43f246c')\"\n",
              "            title=\"Convert this dataframe to an interactive table.\"\n",
              "            style=\"display:none;\">\n",
              "\n",
              "  <svg xmlns=\"http://www.w3.org/2000/svg\" height=\"24px\" viewBox=\"0 -960 960 960\">\n",
              "    <path d=\"M120-120v-720h720v720H120Zm60-500h600v-160H180v160Zm220 220h160v-160H400v160Zm0 220h160v-160H400v160ZM180-400h160v-160H180v160Zm440 0h160v-160H620v160ZM180-180h160v-160H180v160Zm440 0h160v-160H620v160Z\"/>\n",
              "  </svg>\n",
              "    </button>\n",
              "\n",
              "  <style>\n",
              "    .colab-df-container {\n",
              "      display:flex;\n",
              "      gap: 12px;\n",
              "    }\n",
              "\n",
              "    .colab-df-convert {\n",
              "      background-color: #E8F0FE;\n",
              "      border: none;\n",
              "      border-radius: 50%;\n",
              "      cursor: pointer;\n",
              "      display: none;\n",
              "      fill: #1967D2;\n",
              "      height: 32px;\n",
              "      padding: 0 0 0 0;\n",
              "      width: 32px;\n",
              "    }\n",
              "\n",
              "    .colab-df-convert:hover {\n",
              "      background-color: #E2EBFA;\n",
              "      box-shadow: 0px 1px 2px rgba(60, 64, 67, 0.3), 0px 1px 3px 1px rgba(60, 64, 67, 0.15);\n",
              "      fill: #174EA6;\n",
              "    }\n",
              "\n",
              "    .colab-df-buttons div {\n",
              "      margin-bottom: 4px;\n",
              "    }\n",
              "\n",
              "    [theme=dark] .colab-df-convert {\n",
              "      background-color: #3B4455;\n",
              "      fill: #D2E3FC;\n",
              "    }\n",
              "\n",
              "    [theme=dark] .colab-df-convert:hover {\n",
              "      background-color: #434B5C;\n",
              "      box-shadow: 0px 1px 3px 1px rgba(0, 0, 0, 0.15);\n",
              "      filter: drop-shadow(0px 1px 2px rgba(0, 0, 0, 0.3));\n",
              "      fill: #FFFFFF;\n",
              "    }\n",
              "  </style>\n",
              "\n",
              "    <script>\n",
              "      const buttonEl =\n",
              "        document.querySelector('#df-953b664a-d64b-45da-b29c-bfb7b43f246c button.colab-df-convert');\n",
              "      buttonEl.style.display =\n",
              "        google.colab.kernel.accessAllowed ? 'block' : 'none';\n",
              "\n",
              "      async function convertToInteractive(key) {\n",
              "        const element = document.querySelector('#df-953b664a-d64b-45da-b29c-bfb7b43f246c');\n",
              "        const dataTable =\n",
              "          await google.colab.kernel.invokeFunction('convertToInteractive',\n",
              "                                                    [key], {});\n",
              "        if (!dataTable) return;\n",
              "\n",
              "        const docLinkHtml = 'Like what you see? Visit the ' +\n",
              "          '<a target=\"_blank\" href=https://colab.research.google.com/notebooks/data_table.ipynb>data table notebook</a>'\n",
              "          + ' to learn more about interactive tables.';\n",
              "        element.innerHTML = '';\n",
              "        dataTable['output_type'] = 'display_data';\n",
              "        await google.colab.output.renderOutput(dataTable, element);\n",
              "        const docLink = document.createElement('div');\n",
              "        docLink.innerHTML = docLinkHtml;\n",
              "        element.appendChild(docLink);\n",
              "      }\n",
              "    </script>\n",
              "  </div>\n",
              "\n",
              "    </div>\n",
              "  </div>\n"
            ]
          },
          "metadata": {},
          "execution_count": 4
        }
      ]
    },
    {
      "cell_type": "code",
      "source": [
        "books=books[['Book','Author','Description','Genres','Num_Ratings']]"
      ],
      "metadata": {
        "id": "yvH813HuEbyW"
      },
      "execution_count": 5,
      "outputs": []
    },
    {
      "cell_type": "code",
      "source": [
        "books.head(2)"
      ],
      "metadata": {
        "colab": {
          "base_uri": "https://localhost:8080/",
          "height": 146
        },
        "id": "oduL27BDGzdn",
        "outputId": "363ffc15-2cfd-439f-8fc8-66b9f92e2834"
      },
      "execution_count": 6,
      "outputs": [
        {
          "output_type": "execute_result",
          "data": {
            "text/plain": [
              "                                                Book        Author  \\\n",
              "0                              To Kill a Mockingbird    Harper Lee   \n",
              "1  Harry Potter and the Philosopher’s Stone (Harr...  J.K. Rowling   \n",
              "\n",
              "                                         Description  \\\n",
              "0  The unforgettable novel of a childhood in a sl...   \n",
              "1  Harry Potter thinks he is an ordinary boy - un...   \n",
              "\n",
              "                                              Genres Num_Ratings  \n",
              "0  ['Classics', 'Fiction', 'Historical Fiction', ...   5,691,311  \n",
              "1  ['Fantasy', 'Fiction', 'Young Adult', 'Magic',...   9,278,135  "
            ],
            "text/html": [
              "\n",
              "  <div id=\"df-8cb13df0-69c3-4f1c-be30-40db2756ca7b\" class=\"colab-df-container\">\n",
              "    <div>\n",
              "<style scoped>\n",
              "    .dataframe tbody tr th:only-of-type {\n",
              "        vertical-align: middle;\n",
              "    }\n",
              "\n",
              "    .dataframe tbody tr th {\n",
              "        vertical-align: top;\n",
              "    }\n",
              "\n",
              "    .dataframe thead th {\n",
              "        text-align: right;\n",
              "    }\n",
              "</style>\n",
              "<table border=\"1\" class=\"dataframe\">\n",
              "  <thead>\n",
              "    <tr style=\"text-align: right;\">\n",
              "      <th></th>\n",
              "      <th>Book</th>\n",
              "      <th>Author</th>\n",
              "      <th>Description</th>\n",
              "      <th>Genres</th>\n",
              "      <th>Num_Ratings</th>\n",
              "    </tr>\n",
              "  </thead>\n",
              "  <tbody>\n",
              "    <tr>\n",
              "      <th>0</th>\n",
              "      <td>To Kill a Mockingbird</td>\n",
              "      <td>Harper Lee</td>\n",
              "      <td>The unforgettable novel of a childhood in a sl...</td>\n",
              "      <td>['Classics', 'Fiction', 'Historical Fiction', ...</td>\n",
              "      <td>5,691,311</td>\n",
              "    </tr>\n",
              "    <tr>\n",
              "      <th>1</th>\n",
              "      <td>Harry Potter and the Philosopher’s Stone (Harr...</td>\n",
              "      <td>J.K. Rowling</td>\n",
              "      <td>Harry Potter thinks he is an ordinary boy - un...</td>\n",
              "      <td>['Fantasy', 'Fiction', 'Young Adult', 'Magic',...</td>\n",
              "      <td>9,278,135</td>\n",
              "    </tr>\n",
              "  </tbody>\n",
              "</table>\n",
              "</div>\n",
              "    <div class=\"colab-df-buttons\">\n",
              "\n",
              "  <div class=\"colab-df-container\">\n",
              "    <button class=\"colab-df-convert\" onclick=\"convertToInteractive('df-8cb13df0-69c3-4f1c-be30-40db2756ca7b')\"\n",
              "            title=\"Convert this dataframe to an interactive table.\"\n",
              "            style=\"display:none;\">\n",
              "\n",
              "  <svg xmlns=\"http://www.w3.org/2000/svg\" height=\"24px\" viewBox=\"0 -960 960 960\">\n",
              "    <path d=\"M120-120v-720h720v720H120Zm60-500h600v-160H180v160Zm220 220h160v-160H400v160Zm0 220h160v-160H400v160ZM180-400h160v-160H180v160Zm440 0h160v-160H620v160ZM180-180h160v-160H180v160Zm440 0h160v-160H620v160Z\"/>\n",
              "  </svg>\n",
              "    </button>\n",
              "\n",
              "  <style>\n",
              "    .colab-df-container {\n",
              "      display:flex;\n",
              "      gap: 12px;\n",
              "    }\n",
              "\n",
              "    .colab-df-convert {\n",
              "      background-color: #E8F0FE;\n",
              "      border: none;\n",
              "      border-radius: 50%;\n",
              "      cursor: pointer;\n",
              "      display: none;\n",
              "      fill: #1967D2;\n",
              "      height: 32px;\n",
              "      padding: 0 0 0 0;\n",
              "      width: 32px;\n",
              "    }\n",
              "\n",
              "    .colab-df-convert:hover {\n",
              "      background-color: #E2EBFA;\n",
              "      box-shadow: 0px 1px 2px rgba(60, 64, 67, 0.3), 0px 1px 3px 1px rgba(60, 64, 67, 0.15);\n",
              "      fill: #174EA6;\n",
              "    }\n",
              "\n",
              "    .colab-df-buttons div {\n",
              "      margin-bottom: 4px;\n",
              "    }\n",
              "\n",
              "    [theme=dark] .colab-df-convert {\n",
              "      background-color: #3B4455;\n",
              "      fill: #D2E3FC;\n",
              "    }\n",
              "\n",
              "    [theme=dark] .colab-df-convert:hover {\n",
              "      background-color: #434B5C;\n",
              "      box-shadow: 0px 1px 3px 1px rgba(0, 0, 0, 0.15);\n",
              "      filter: drop-shadow(0px 1px 2px rgba(0, 0, 0, 0.3));\n",
              "      fill: #FFFFFF;\n",
              "    }\n",
              "  </style>\n",
              "\n",
              "    <script>\n",
              "      const buttonEl =\n",
              "        document.querySelector('#df-8cb13df0-69c3-4f1c-be30-40db2756ca7b button.colab-df-convert');\n",
              "      buttonEl.style.display =\n",
              "        google.colab.kernel.accessAllowed ? 'block' : 'none';\n",
              "\n",
              "      async function convertToInteractive(key) {\n",
              "        const element = document.querySelector('#df-8cb13df0-69c3-4f1c-be30-40db2756ca7b');\n",
              "        const dataTable =\n",
              "          await google.colab.kernel.invokeFunction('convertToInteractive',\n",
              "                                                    [key], {});\n",
              "        if (!dataTable) return;\n",
              "\n",
              "        const docLinkHtml = 'Like what you see? Visit the ' +\n",
              "          '<a target=\"_blank\" href=https://colab.research.google.com/notebooks/data_table.ipynb>data table notebook</a>'\n",
              "          + ' to learn more about interactive tables.';\n",
              "        element.innerHTML = '';\n",
              "        dataTable['output_type'] = 'display_data';\n",
              "        await google.colab.output.renderOutput(dataTable, element);\n",
              "        const docLink = document.createElement('div');\n",
              "        docLink.innerHTML = docLinkHtml;\n",
              "        element.appendChild(docLink);\n",
              "      }\n",
              "    </script>\n",
              "  </div>\n",
              "\n",
              "\n",
              "<div id=\"df-3c05b4b4-6958-4215-824f-8df5de24b4b5\">\n",
              "  <button class=\"colab-df-quickchart\" onclick=\"quickchart('df-3c05b4b4-6958-4215-824f-8df5de24b4b5')\"\n",
              "            title=\"Suggest charts\"\n",
              "            style=\"display:none;\">\n",
              "\n",
              "<svg xmlns=\"http://www.w3.org/2000/svg\" height=\"24px\"viewBox=\"0 0 24 24\"\n",
              "     width=\"24px\">\n",
              "    <g>\n",
              "        <path d=\"M19 3H5c-1.1 0-2 .9-2 2v14c0 1.1.9 2 2 2h14c1.1 0 2-.9 2-2V5c0-1.1-.9-2-2-2zM9 17H7v-7h2v7zm4 0h-2V7h2v10zm4 0h-2v-4h2v4z\"/>\n",
              "    </g>\n",
              "</svg>\n",
              "  </button>\n",
              "\n",
              "<style>\n",
              "  .colab-df-quickchart {\n",
              "      --bg-color: #E8F0FE;\n",
              "      --fill-color: #1967D2;\n",
              "      --hover-bg-color: #E2EBFA;\n",
              "      --hover-fill-color: #174EA6;\n",
              "      --disabled-fill-color: #AAA;\n",
              "      --disabled-bg-color: #DDD;\n",
              "  }\n",
              "\n",
              "  [theme=dark] .colab-df-quickchart {\n",
              "      --bg-color: #3B4455;\n",
              "      --fill-color: #D2E3FC;\n",
              "      --hover-bg-color: #434B5C;\n",
              "      --hover-fill-color: #FFFFFF;\n",
              "      --disabled-bg-color: #3B4455;\n",
              "      --disabled-fill-color: #666;\n",
              "  }\n",
              "\n",
              "  .colab-df-quickchart {\n",
              "    background-color: var(--bg-color);\n",
              "    border: none;\n",
              "    border-radius: 50%;\n",
              "    cursor: pointer;\n",
              "    display: none;\n",
              "    fill: var(--fill-color);\n",
              "    height: 32px;\n",
              "    padding: 0;\n",
              "    width: 32px;\n",
              "  }\n",
              "\n",
              "  .colab-df-quickchart:hover {\n",
              "    background-color: var(--hover-bg-color);\n",
              "    box-shadow: 0 1px 2px rgba(60, 64, 67, 0.3), 0 1px 3px 1px rgba(60, 64, 67, 0.15);\n",
              "    fill: var(--button-hover-fill-color);\n",
              "  }\n",
              "\n",
              "  .colab-df-quickchart-complete:disabled,\n",
              "  .colab-df-quickchart-complete:disabled:hover {\n",
              "    background-color: var(--disabled-bg-color);\n",
              "    fill: var(--disabled-fill-color);\n",
              "    box-shadow: none;\n",
              "  }\n",
              "\n",
              "  .colab-df-spinner {\n",
              "    border: 2px solid var(--fill-color);\n",
              "    border-color: transparent;\n",
              "    border-bottom-color: var(--fill-color);\n",
              "    animation:\n",
              "      spin 1s steps(1) infinite;\n",
              "  }\n",
              "\n",
              "  @keyframes spin {\n",
              "    0% {\n",
              "      border-color: transparent;\n",
              "      border-bottom-color: var(--fill-color);\n",
              "      border-left-color: var(--fill-color);\n",
              "    }\n",
              "    20% {\n",
              "      border-color: transparent;\n",
              "      border-left-color: var(--fill-color);\n",
              "      border-top-color: var(--fill-color);\n",
              "    }\n",
              "    30% {\n",
              "      border-color: transparent;\n",
              "      border-left-color: var(--fill-color);\n",
              "      border-top-color: var(--fill-color);\n",
              "      border-right-color: var(--fill-color);\n",
              "    }\n",
              "    40% {\n",
              "      border-color: transparent;\n",
              "      border-right-color: var(--fill-color);\n",
              "      border-top-color: var(--fill-color);\n",
              "    }\n",
              "    60% {\n",
              "      border-color: transparent;\n",
              "      border-right-color: var(--fill-color);\n",
              "    }\n",
              "    80% {\n",
              "      border-color: transparent;\n",
              "      border-right-color: var(--fill-color);\n",
              "      border-bottom-color: var(--fill-color);\n",
              "    }\n",
              "    90% {\n",
              "      border-color: transparent;\n",
              "      border-bottom-color: var(--fill-color);\n",
              "    }\n",
              "  }\n",
              "</style>\n",
              "\n",
              "  <script>\n",
              "    async function quickchart(key) {\n",
              "      const quickchartButtonEl =\n",
              "        document.querySelector('#' + key + ' button');\n",
              "      quickchartButtonEl.disabled = true;  // To prevent multiple clicks.\n",
              "      quickchartButtonEl.classList.add('colab-df-spinner');\n",
              "      try {\n",
              "        const charts = await google.colab.kernel.invokeFunction(\n",
              "            'suggestCharts', [key], {});\n",
              "      } catch (error) {\n",
              "        console.error('Error during call to suggestCharts:', error);\n",
              "      }\n",
              "      quickchartButtonEl.classList.remove('colab-df-spinner');\n",
              "      quickchartButtonEl.classList.add('colab-df-quickchart-complete');\n",
              "    }\n",
              "    (() => {\n",
              "      let quickchartButtonEl =\n",
              "        document.querySelector('#df-3c05b4b4-6958-4215-824f-8df5de24b4b5 button');\n",
              "      quickchartButtonEl.style.display =\n",
              "        google.colab.kernel.accessAllowed ? 'block' : 'none';\n",
              "    })();\n",
              "  </script>\n",
              "</div>\n",
              "    </div>\n",
              "  </div>\n"
            ]
          },
          "metadata": {},
          "execution_count": 6
        }
      ]
    },
    {
      "cell_type": "code",
      "source": [
        "books.isnull().sum()"
      ],
      "metadata": {
        "colab": {
          "base_uri": "https://localhost:8080/"
        },
        "id": "PAX5rSEbHFhP",
        "outputId": "58c56b93-60f1-4049-90d4-3f8d92f8f357"
      },
      "execution_count": 7,
      "outputs": [
        {
          "output_type": "execute_result",
          "data": {
            "text/plain": [
              "Book            0\n",
              "Author          0\n",
              "Description    77\n",
              "Genres          0\n",
              "Num_Ratings     0\n",
              "dtype: int64"
            ]
          },
          "metadata": {},
          "execution_count": 7
        }
      ]
    },
    {
      "cell_type": "code",
      "source": [
        "books.dropna(inplace=True)"
      ],
      "metadata": {
        "id": "Sy9mHep9HhuF"
      },
      "execution_count": 8,
      "outputs": []
    },
    {
      "cell_type": "code",
      "source": [
        "books.duplicated().sum()"
      ],
      "metadata": {
        "colab": {
          "base_uri": "https://localhost:8080/"
        },
        "id": "RRKDAKEjHubL",
        "outputId": "0ae6da7f-1538-4c46-a2f4-9434da4e96cb"
      },
      "execution_count": 9,
      "outputs": [
        {
          "output_type": "execute_result",
          "data": {
            "text/plain": [
              "19"
            ]
          },
          "metadata": {},
          "execution_count": 9
        }
      ]
    },
    {
      "cell_type": "code",
      "source": [
        "books.drop_duplicates(inplace=True)"
      ],
      "metadata": {
        "id": "0pzLhlsBIQxc"
      },
      "execution_count": 10,
      "outputs": []
    },
    {
      "cell_type": "markdown",
      "source": [
        "To normalize num_ratings"
      ],
      "metadata": {
        "id": "MjGv7DrxVbJa"
      }
    },
    {
      "cell_type": "code",
      "source": [
        "from sklearn.preprocessing import MinMaxScaler"
      ],
      "metadata": {
        "id": "ls9WceSTMsys"
      },
      "execution_count": 11,
      "outputs": []
    },
    {
      "cell_type": "code",
      "source": [
        "sc=MinMaxScaler()"
      ],
      "metadata": {
        "id": "4dkDW0KyM4bb"
      },
      "execution_count": 12,
      "outputs": []
    },
    {
      "cell_type": "code",
      "source": [
        "books['Num_Ratings'] = books['Num_Ratings'].str.replace(',', '').astype(float)\n"
      ],
      "metadata": {
        "id": "3-_3KYmEN0-X"
      },
      "execution_count": 13,
      "outputs": []
    },
    {
      "cell_type": "code",
      "source": [
        "books['Num_Ratings']=sc.fit_transform(books[['Num_Ratings']])"
      ],
      "metadata": {
        "id": "l6-ew504M_gu"
      },
      "execution_count": 14,
      "outputs": []
    },
    {
      "cell_type": "code",
      "source": [
        "books.head(1)"
      ],
      "metadata": {
        "colab": {
          "base_uri": "https://localhost:8080/",
          "height": 98
        },
        "id": "2yhGNxqQN6PT",
        "outputId": "5ec5a12f-ee3b-4860-d5b4-cbb9d92d4379"
      },
      "execution_count": 15,
      "outputs": [
        {
          "output_type": "execute_result",
          "data": {
            "text/plain": [
              "                    Book      Author  \\\n",
              "0  To Kill a Mockingbird  Harper Lee   \n",
              "\n",
              "                                         Description  \\\n",
              "0  The unforgettable novel of a childhood in a sl...   \n",
              "\n",
              "                                              Genres  Num_Ratings  \n",
              "0  ['Classics', 'Fiction', 'Historical Fiction', ...     0.613411  "
            ],
            "text/html": [
              "\n",
              "  <div id=\"df-5781ed44-5343-4903-a111-9ea88cc168d0\" class=\"colab-df-container\">\n",
              "    <div>\n",
              "<style scoped>\n",
              "    .dataframe tbody tr th:only-of-type {\n",
              "        vertical-align: middle;\n",
              "    }\n",
              "\n",
              "    .dataframe tbody tr th {\n",
              "        vertical-align: top;\n",
              "    }\n",
              "\n",
              "    .dataframe thead th {\n",
              "        text-align: right;\n",
              "    }\n",
              "</style>\n",
              "<table border=\"1\" class=\"dataframe\">\n",
              "  <thead>\n",
              "    <tr style=\"text-align: right;\">\n",
              "      <th></th>\n",
              "      <th>Book</th>\n",
              "      <th>Author</th>\n",
              "      <th>Description</th>\n",
              "      <th>Genres</th>\n",
              "      <th>Num_Ratings</th>\n",
              "    </tr>\n",
              "  </thead>\n",
              "  <tbody>\n",
              "    <tr>\n",
              "      <th>0</th>\n",
              "      <td>To Kill a Mockingbird</td>\n",
              "      <td>Harper Lee</td>\n",
              "      <td>The unforgettable novel of a childhood in a sl...</td>\n",
              "      <td>['Classics', 'Fiction', 'Historical Fiction', ...</td>\n",
              "      <td>0.613411</td>\n",
              "    </tr>\n",
              "  </tbody>\n",
              "</table>\n",
              "</div>\n",
              "    <div class=\"colab-df-buttons\">\n",
              "\n",
              "  <div class=\"colab-df-container\">\n",
              "    <button class=\"colab-df-convert\" onclick=\"convertToInteractive('df-5781ed44-5343-4903-a111-9ea88cc168d0')\"\n",
              "            title=\"Convert this dataframe to an interactive table.\"\n",
              "            style=\"display:none;\">\n",
              "\n",
              "  <svg xmlns=\"http://www.w3.org/2000/svg\" height=\"24px\" viewBox=\"0 -960 960 960\">\n",
              "    <path d=\"M120-120v-720h720v720H120Zm60-500h600v-160H180v160Zm220 220h160v-160H400v160Zm0 220h160v-160H400v160ZM180-400h160v-160H180v160Zm440 0h160v-160H620v160ZM180-180h160v-160H180v160Zm440 0h160v-160H620v160Z\"/>\n",
              "  </svg>\n",
              "    </button>\n",
              "\n",
              "  <style>\n",
              "    .colab-df-container {\n",
              "      display:flex;\n",
              "      gap: 12px;\n",
              "    }\n",
              "\n",
              "    .colab-df-convert {\n",
              "      background-color: #E8F0FE;\n",
              "      border: none;\n",
              "      border-radius: 50%;\n",
              "      cursor: pointer;\n",
              "      display: none;\n",
              "      fill: #1967D2;\n",
              "      height: 32px;\n",
              "      padding: 0 0 0 0;\n",
              "      width: 32px;\n",
              "    }\n",
              "\n",
              "    .colab-df-convert:hover {\n",
              "      background-color: #E2EBFA;\n",
              "      box-shadow: 0px 1px 2px rgba(60, 64, 67, 0.3), 0px 1px 3px 1px rgba(60, 64, 67, 0.15);\n",
              "      fill: #174EA6;\n",
              "    }\n",
              "\n",
              "    .colab-df-buttons div {\n",
              "      margin-bottom: 4px;\n",
              "    }\n",
              "\n",
              "    [theme=dark] .colab-df-convert {\n",
              "      background-color: #3B4455;\n",
              "      fill: #D2E3FC;\n",
              "    }\n",
              "\n",
              "    [theme=dark] .colab-df-convert:hover {\n",
              "      background-color: #434B5C;\n",
              "      box-shadow: 0px 1px 3px 1px rgba(0, 0, 0, 0.15);\n",
              "      filter: drop-shadow(0px 1px 2px rgba(0, 0, 0, 0.3));\n",
              "      fill: #FFFFFF;\n",
              "    }\n",
              "  </style>\n",
              "\n",
              "    <script>\n",
              "      const buttonEl =\n",
              "        document.querySelector('#df-5781ed44-5343-4903-a111-9ea88cc168d0 button.colab-df-convert');\n",
              "      buttonEl.style.display =\n",
              "        google.colab.kernel.accessAllowed ? 'block' : 'none';\n",
              "\n",
              "      async function convertToInteractive(key) {\n",
              "        const element = document.querySelector('#df-5781ed44-5343-4903-a111-9ea88cc168d0');\n",
              "        const dataTable =\n",
              "          await google.colab.kernel.invokeFunction('convertToInteractive',\n",
              "                                                    [key], {});\n",
              "        if (!dataTable) return;\n",
              "\n",
              "        const docLinkHtml = 'Like what you see? Visit the ' +\n",
              "          '<a target=\"_blank\" href=https://colab.research.google.com/notebooks/data_table.ipynb>data table notebook</a>'\n",
              "          + ' to learn more about interactive tables.';\n",
              "        element.innerHTML = '';\n",
              "        dataTable['output_type'] = 'display_data';\n",
              "        await google.colab.output.renderOutput(dataTable, element);\n",
              "        const docLink = document.createElement('div');\n",
              "        docLink.innerHTML = docLinkHtml;\n",
              "        element.appendChild(docLink);\n",
              "      }\n",
              "    </script>\n",
              "  </div>\n",
              "\n",
              "    </div>\n",
              "  </div>\n"
            ]
          },
          "metadata": {},
          "execution_count": 15
        }
      ]
    },
    {
      "cell_type": "markdown",
      "source": [
        "Remove all the symbols from the title"
      ],
      "metadata": {
        "id": "00MiAJRbH1MA"
      }
    },
    {
      "cell_type": "code",
      "source": [
        "import re\n",
        "#books['Book']=re.sub(r'\\([^()]*\\)', '', books['Book'])\n",
        "books['Book'] = books['Book'].str.replace(r'\\([^)]*\\)', '').str.strip()\n",
        "# Assuming df is your DataFrame and 'Text_Column' is the column containing text with symbols\n",
        "books['Book'] = books['Book'].apply(lambda x: re.sub(r'[^\\w\\s]', '', x))\n",
        "books['Description']=books['Description'].apply(lambda x: re.sub(r'[^\\w\\s]', '', x))\n",
        "\n",
        "# Display the DataFrame\n",
        "print(books)\n"
      ],
      "metadata": {
        "colab": {
          "base_uri": "https://localhost:8080/"
        },
        "id": "-hkGe1YOFnos",
        "outputId": "15ec7c47-16c9-41ff-c426-fe77c99011dd"
      },
      "execution_count": 16,
      "outputs": [
        {
          "output_type": "stream",
          "name": "stderr",
          "text": [
            "<ipython-input-16-9465e91bf7e7>:3: FutureWarning: The default value of regex will change from True to False in a future version.\n",
            "  books['Book'] = books['Book'].str.replace(r'\\([^)]*\\)', '').str.strip()\n"
          ]
        },
        {
          "output_type": "stream",
          "name": "stdout",
          "text": [
            "                                         Book             Author  \\\n",
            "0                       To Kill a Mockingbird         Harper Lee   \n",
            "1     Harry Potter and the Philosophers Stone       J.K. Rowling   \n",
            "2                         Pride and Prejudice        Jane Austen   \n",
            "3                   The Diary of a Young Girl         Anne Frank   \n",
            "4                                 Animal Farm      George Orwell   \n",
            "...                                       ...                ...   \n",
            "9995                                 Breeders     Ashley Quigley   \n",
            "9996                                   Dynamo  Eleanor Gustafson   \n",
            "9997                    The Republic of Trees         Sam Taylor   \n",
            "9998                                Waking Up         Renee Dyer   \n",
            "9999        Bits and Pieces Tales and Sonnets        Jas T. Ward   \n",
            "\n",
            "                                            Description  \\\n",
            "0     The unforgettable novel of a childhood in a sl...   \n",
            "1     Harry Potter thinks he is an ordinary boy  unt...   \n",
            "2     Since its immediate success in 1813 Pride and ...   \n",
            "3     Discovered in the attic in which she spent the...   \n",
            "4     Librarians note There is an Alternate Cover Ed...   \n",
            "...                                                 ...   \n",
            "9995  How far would you go If human society was genu...   \n",
            "9996  Jeth Cavanaugh is searching for a new life alo...   \n",
            "9997  This dark fable tells the story of four Englis...   \n",
            "9998  For Adriana Monroe life couldnt get any better...   \n",
            "9999  After demands of thousands of fans in various ...   \n",
            "\n",
            "                                                 Genres  Num_Ratings  \n",
            "0     ['Classics', 'Fiction', 'Historical Fiction', ...     0.613411  \n",
            "1     ['Fantasy', 'Fiction', 'Young Adult', 'Magic',...     1.000000  \n",
            "2     ['Classics', 'Fiction', 'Romance', 'Historical...     0.425102  \n",
            "3     ['Classics', 'Nonfiction', 'History', 'Biograp...     0.375985  \n",
            "4     ['Classics', 'Fiction', 'Dystopia', 'Fantasy',...     0.385333  \n",
            "...                                                 ...          ...  \n",
            "9995  ['Dystopia', 'Science Fiction', 'Post Apocalyp...     0.000030  \n",
            "9996                                                 []     0.000006  \n",
            "9997  ['Fiction', 'Horror', 'Dystopia', 'Coming Of A...     0.000041  \n",
            "9998  ['New Adult', 'Romance', 'Contemporary Romance...     0.000028  \n",
            "9999                                                 []     0.000004  \n",
            "\n",
            "[9904 rows x 5 columns]\n"
          ]
        }
      ]
    },
    {
      "cell_type": "markdown",
      "source": [
        "Creating new dataframe with combined features"
      ],
      "metadata": {
        "id": "UZCnWaFFKYAx"
      }
    },
    {
      "cell_type": "code",
      "source": [
        "Titles = books['Book']\n",
        "combined_features = books['Description'] + ' ' + books['Author'] + ' ' + books['Genres'].apply(lambda x: ' '.join(x))\n",
        "\n",
        "new_books = pd.DataFrame({'Book_Title': Titles, 'Combined_Features': combined_features})\n",
        "print(new_books.head(10))"
      ],
      "metadata": {
        "colab": {
          "base_uri": "https://localhost:8080/"
        },
        "id": "97FhkY16KWOD",
        "outputId": "8702a406-2516-4254-d2f9-60d9459ea7ad"
      },
      "execution_count": 17,
      "outputs": [
        {
          "output_type": "stream",
          "name": "stdout",
          "text": [
            "                                Book_Title  \\\n",
            "0                    To Kill a Mockingbird   \n",
            "1  Harry Potter and the Philosophers Stone   \n",
            "2                      Pride and Prejudice   \n",
            "3                The Diary of a Young Girl   \n",
            "4                              Animal Farm   \n",
            "5                        The Little Prince   \n",
            "6                                     1984   \n",
            "7                         The Great Gatsby   \n",
            "8                   The Catcher in the Rye   \n",
            "9                    The Lord of the Rings   \n",
            "\n",
            "                                   Combined_Features  \n",
            "0  The unforgettable novel of a childhood in a sl...  \n",
            "1  Harry Potter thinks he is an ordinary boy  unt...  \n",
            "2  Since its immediate success in 1813 Pride and ...  \n",
            "3  Discovered in the attic in which she spent the...  \n",
            "4  Librarians note There is an Alternate Cover Ed...  \n",
            "5  A pilot stranded in the desert awakes one morn...  \n",
            "6  The new novel by George Orwell is the major wo...  \n",
            "7  Alternate Cover Edition ISBN 0743273567 ISBN13...  \n",
            "8  Its Christmas time and Holden Caulfield has ju...  \n",
            "9  One Ring to rule them all One Ring to find the...  \n"
          ]
        }
      ]
    },
    {
      "cell_type": "code",
      "source": [
        "from sklearn.feature_extraction.text import TfidfVectorizer\n",
        "from sklearn.preprocessing import LabelEncoder\n",
        "vectorizer = TfidfVectorizer(stop_words='english', max_features=1000)\n",
        "\n",
        "# Fit and transform the combined features\n",
        "combined_vectors = vectorizer.fit_transform(new_books['Combined_Features'])\n",
        "\n",
        "# Convert the result to a DataFrame for easier inspection\n",
        "combined_df = pd.DataFrame(combined_vectors.toarray(), columns=vectorizer.get_feature_names_out())\n",
        "\n",
        "# Display the DataFrame with vectorized combined features\n",
        "print(combined_df)"
      ],
      "metadata": {
        "colab": {
          "base_uri": "https://localhost:8080/"
        },
        "id": "53Avwl_VMdx2",
        "outputId": "c2bf6db8-7291-40bf-9a92-1a23527e8868"
      },
      "execution_count": 18,
      "outputs": [
        {
          "output_type": "stream",
          "name": "stdout",
          "text": [
            "      ability      able  abuse  accident  acclaimed  account  achieve  act  \\\n",
            "0         0.0  0.000000    0.0       0.0        0.0  0.00000      0.0  0.0   \n",
            "1         0.0  0.000000    0.0       0.0        0.0  0.00000      0.0  0.0   \n",
            "2         0.0  0.000000    0.0       0.0        0.0  0.00000      0.0  0.0   \n",
            "3         0.0  0.000000    0.0       0.0        0.0  0.13391      0.0  0.0   \n",
            "4         0.0  0.000000    0.0       0.0        0.0  0.00000      0.0  0.0   \n",
            "...       ...       ...    ...       ...        ...      ...      ...  ...   \n",
            "9899      0.0  0.180121    0.0       0.0        0.0  0.00000      0.0  0.0   \n",
            "9900      0.0  0.000000    0.0       0.0        0.0  0.00000      0.0  0.0   \n",
            "9901      0.0  0.000000    0.0       0.0        0.0  0.00000      0.0  0.0   \n",
            "9902      0.0  0.000000    0.0       0.0        0.0  0.00000      0.0  0.0   \n",
            "9903      0.0  0.000000    0.0       0.0        0.0  0.00000      0.0  0.0   \n",
            "\n",
            "      action  actually  ...  wrong  wrote  year     years  york  youll  \\\n",
            "0        0.0       0.0  ...    0.0    0.0   0.0  0.000000   0.0    0.0   \n",
            "1        0.0       0.0  ...    0.0    0.0   0.0  0.000000   0.0    0.0   \n",
            "2        0.0       0.0  ...    0.0    0.0   0.0  0.000000   0.0    0.0   \n",
            "3        0.0       0.0  ...    0.0    0.0   0.0  0.161035   0.0    0.0   \n",
            "4        0.0       0.0  ...    0.0    0.0   0.0  0.000000   0.0    0.0   \n",
            "...      ...       ...  ...    ...    ...   ...       ...   ...    ...   \n",
            "9899     0.0       0.0  ...    0.0    0.0   0.0  0.000000   0.0    0.0   \n",
            "9900     0.0       0.0  ...    0.0    0.0   0.0  0.000000   0.0    0.0   \n",
            "9901     0.0       0.0  ...    0.0    0.0   0.0  0.000000   0.0    0.0   \n",
            "9902     0.0       0.0  ...    0.0    0.0   0.0  0.000000   0.0    0.0   \n",
            "9903     0.0       0.0  ...    0.0    0.0   0.0  0.087098   0.0    0.0   \n",
            "\n",
            "         young  youre   في   من  \n",
            "0     0.098991    0.0  0.0  0.0  \n",
            "1     0.000000    0.0  0.0  0.0  \n",
            "2     0.000000    0.0  0.0  0.0  \n",
            "3     0.086609    0.0  0.0  0.0  \n",
            "4     0.000000    0.0  0.0  0.0  \n",
            "...        ...    ...  ...  ...  \n",
            "9899  0.000000    0.0  0.0  0.0  \n",
            "9900  0.000000    0.0  0.0  0.0  \n",
            "9901  0.000000    0.0  0.0  0.0  \n",
            "9902  0.000000    0.0  0.0  0.0  \n",
            "9903  0.000000    0.0  0.0  0.0  \n",
            "\n",
            "[9904 rows x 1000 columns]\n"
          ]
        }
      ]
    },
    {
      "cell_type": "code",
      "source": [
        "from sklearn.metrics.pairwise import cosine_similarity\n",
        "\n",
        "# Assuming description_df is the DataFrame with vectorized features\n",
        "cosine_sim_matrix = cosine_similarity(combined_df)\n",
        "\n",
        "# Display the cosine similarity matrix\n",
        "print(cosine_sim_matrix)\n"
      ],
      "metadata": {
        "colab": {
          "base_uri": "https://localhost:8080/"
        },
        "id": "jK1n0wQlM59x",
        "outputId": "726afae5-c133-4501-fd1a-052cca749aab"
      },
      "execution_count": 19,
      "outputs": [
        {
          "output_type": "stream",
          "name": "stdout",
          "text": [
            "[[1.         0.         0.03255774 ... 0.04994688 0.02980838 0.0446871 ]\n",
            " [0.         1.         0.         ... 0.         0.         0.        ]\n",
            " [0.03255774 0.         1.         ... 0.05742526 0.01595067 0.05551216]\n",
            " ...\n",
            " [0.04994688 0.         0.05742526 ... 1.         0.02001646 0.03646807]\n",
            " [0.02980838 0.         0.01595067 ... 0.02001646 1.         0.        ]\n",
            " [0.0446871  0.         0.05551216 ... 0.03646807 0.         1.        ]]\n"
          ]
        }
      ]
    },
    {
      "cell_type": "code",
      "source": [
        "  def get_similar_books(book_title, cosine_sim_matrix, books, top_n=3):\n",
        "      # Get the index of the target book\n",
        "      book_index = new_books[new_books['Book_Title'] == book_title].index[0]\n",
        "\n",
        "      # Get the cosine similarity scores for the target book\n",
        "      cosine_scores = cosine_sim_matrix[book_index]\n",
        "\n",
        "      # Get the indices of books most similar to the target book\n",
        "      similar_books_indices = np.argsort(cosine_scores)[::-1][1:top_n+1]  # Exclude the target book itself\n",
        "\n",
        "      # Get the titles of similar books\n",
        "      similar_books = new_books.loc[similar_books_indices, 'Book_Title'].tolist()\n",
        "\n",
        "      return similar_books\n",
        "\n",
        "  # Example: Find top 3 similar books for a given book\n",
        "  target_book_title = input()\n",
        "  similar_books = get_similar_books(target_book_title, cosine_sim_matrix, books, top_n=3)\n",
        "\n",
        "  # Display the result\n",
        "  print(f\"Books similar to '{target_book_title}': {similar_books}\")"
      ],
      "metadata": {
        "colab": {
          "base_uri": "https://localhost:8080/"
        },
        "id": "8y5h0CpFNmcA",
        "outputId": "861100d6-a74b-49b5-93d8-27aed2492b42"
      },
      "execution_count": 20,
      "outputs": [
        {
          "output_type": "stream",
          "name": "stdout",
          "text": [
            "To Kill a Mockingbird\n",
            "Books similar to 'To Kill a Mockingbird': ['The New Jim Crow Mass Incarceration in the Age of Colorblindness', 'De donkere kamer van Damokles', 'Wicked Fate']\n"
          ]
        }
      ]
    }
  ]
}